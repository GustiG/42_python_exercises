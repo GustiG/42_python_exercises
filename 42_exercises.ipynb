{
 "cells": [
  {
   "attachments": {},
   "cell_type": "markdown",
   "metadata": {},
   "source": [
    "# 42 Python Programming Exercises from:"
   ]
  },
  {
   "attachments": {},
   "cell_type": "markdown",
   "metadata": {},
   "source": [
    "                                            \n",
    "                                    https://inventwithpython.com/pythongently/"
   ]
  },
  {
   "attachments": {},
   "cell_type": "markdown",
   "metadata": {},
   "source": [
    "---"
   ]
  },
  {
   "attachments": {},
   "cell_type": "markdown",
   "metadata": {},
   "source": [
    "## EXERCISE #1: HELLO, WORLD!"
   ]
  },
  {
   "attachments": {},
   "cell_type": "markdown",
   "metadata": {},
   "source": [
    "Write a program that, when run, greets the user by printing “Hello, world!” on the screen. Then it prints a message on the screen asking the user to enter their name. The program greets the user by name by printing the “Hello,” followed by the user’s name."
   ]
  },
  {
   "cell_type": "code",
   "execution_count": 2,
   "metadata": {},
   "outputs": [
    {
     "name": "stdout",
     "output_type": "stream",
     "text": [
      "Hello, world!\n",
      "Well hello, there !\n"
     ]
    }
   ],
   "source": [
    "print(\"Hello, world!\")\n",
    "name = input(\"And who might you be?\\n\")\n",
    "print(f\"Well hello, there {name}!\")"
   ]
  },
  {
   "attachments": {},
   "cell_type": "markdown",
   "metadata": {},
   "source": [
    "---"
   ]
  },
  {
   "attachments": {},
   "cell_type": "markdown",
   "metadata": {},
   "source": [
    "## EXERCISE #2: TEMPERATURE CONVERSION"
   ]
  },
  {
   "attachments": {},
   "cell_type": "markdown",
   "metadata": {},
   "source": [
    "Write a convertToFahrenheit() function with a degreesCelsius parameter. This function returns the number of this temperature in degrees Fahrenheit. Then write a function named convertToCelsius() with a degreesFahrenheit parameter and returns a number of this temperature in degrees Celsius.\n",
    "\n",
    "Use these two formulas for converting between Celsius and Fahrenheit:\n",
    "\n",
    "·       Fahrenheit = Celsius × (9 / 5) + 32\n",
    "\n",
    "·       Celsius = (Fahrenheit - 32) × (5 / 9)"
   ]
  },
  {
   "cell_type": "code",
   "execution_count": 3,
   "metadata": {},
   "outputs": [],
   "source": [
    "def convertToFahrenheit(degreesCelsius):\n",
    "    return degreesCelsius * (9 / 5) + 32\n",
    "\n",
    "def convertToCelsius(degreesFahrenheit):\n",
    "    return (degreesFahrenheit - 32) * 5 / 9\n",
    "\n",
    "\n",
    "#These Python assert statements stop the program if their condition is False:\n",
    "assert convertToCelsius(0) == -17.77777777777778\n",
    "assert convertToCelsius(180) == 82.22222222222223\n",
    "assert convertToFahrenheit(0) == 32\n",
    "assert convertToFahrenheit(100) == 212\n",
    "assert convertToCelsius(convertToFahrenheit(15)) == 15"
   ]
  },
  {
   "attachments": {},
   "cell_type": "markdown",
   "metadata": {},
   "source": [
    "---"
   ]
  },
  {
   "attachments": {},
   "cell_type": "markdown",
   "metadata": {},
   "source": [
    "## EXERCISE #3: ODD & EVEN"
   ]
  },
  {
   "attachments": {},
   "cell_type": "markdown",
   "metadata": {},
   "source": [
    "Write two functions, isOdd() and isEven(), with a single numeric parameter named number. The isOdd() function returns True if number is odd and False if number is even. The isEven() function returns the True if number is even and False if number is odd. Both functions return False for numbers with fractional parts, such as 3.14 or -4.5. Zero is considered an even number."
   ]
  },
  {
   "cell_type": "code",
   "execution_count": 4,
   "metadata": {},
   "outputs": [],
   "source": [
    "def isOdd(number):\n",
    "    return number % 2 == 1\n",
    "\n",
    "def isEven(number):\n",
    "    return number % 2 == 0\n",
    "\n",
    "\n",
    "#These Python assert statements stop the program if their condition is False:\n",
    "assert isOdd(42) == False\n",
    "assert isOdd(9999) == True\n",
    "assert isOdd(-10) == False\n",
    "assert isOdd(-11) == True\n",
    "assert isOdd(3.1415) == False\n",
    "assert isEven(42) == True\n",
    "assert isEven(9999) == False\n",
    "assert isEven(-10) == True\n",
    "assert isEven(-11) == False\n",
    "assert isEven(3.1415) == False"
   ]
  },
  {
   "attachments": {},
   "cell_type": "markdown",
   "metadata": {},
   "source": [
    "---"
   ]
  },
  {
   "attachments": {},
   "cell_type": "markdown",
   "metadata": {},
   "source": [
    "## EXERCISE #4: AREA & VOLUME"
   ]
  },
  {
   "attachments": {},
   "cell_type": "markdown",
   "metadata": {},
   "source": [
    "You will write four functions for this exercise. The functions area() and perimeter() have length and width parameters and the functions volume() and surfaceArea() have length, width, and height parameters. These functions return the area, perimeter, volume, and surface area, respectively.\n",
    "\n",
    "The formulas for calculating area, perimeter, volume, and surface area are based on the length (L), width (W), and height (H) of the shape:\n",
    "\n",
    "·       area = L × W\n",
    "\n",
    "·       perimeter = L + W + L + W\n",
    "\n",
    "·       volume = L × W × H\n",
    "\n",
    "·       surface area = (L × W × 2) + (L × H × 2) + (W × H × 2)"
   ]
  },
  {
   "cell_type": "code",
   "execution_count": 5,
   "metadata": {},
   "outputs": [],
   "source": [
    "def area(length, width):\n",
    "    return length * width\n",
    "\n",
    "def perimeter(length, width):\n",
    "    return(length + width + length + width)\n",
    "\n",
    "def volume(length, width, height):\n",
    "    return length * width* height\n",
    "\n",
    "def surfaceArea(length, width, height):\n",
    "    return (length * width * 2) + (length *  height * 2) + (width * height * 2)\n",
    "\n",
    "\n",
    "#These Python assert statements stop the program if their condition is False:\n",
    "assert area(10, 10) == 100\n",
    "assert area(0, 9999) == 0\n",
    "assert area(5, 8) == 40\n",
    "assert perimeter(10, 10) == 40\n",
    "assert perimeter(0, 9999) == 19998\n",
    "assert perimeter(5, 8) == 26\n",
    "assert volume(10, 10, 10) == 1000\n",
    "assert volume(9999, 0, 9999) == 0\n",
    "assert volume(5, 8, 10) == 400\n",
    "assert surfaceArea(10, 10, 10) == 600\n",
    "assert surfaceArea(9999, 0, 9999) == 199960002\n",
    "assert surfaceArea(5, 8, 10) == 340"
   ]
  },
  {
   "attachments": {},
   "cell_type": "markdown",
   "metadata": {},
   "source": [
    "---"
   ]
  },
  {
   "attachments": {},
   "cell_type": "markdown",
   "metadata": {},
   "source": [
    "## EXERCISE #5: FIZZ BUZZ"
   ]
  },
  {
   "attachments": {},
   "cell_type": "markdown",
   "metadata": {},
   "source": [
    "Write a fizzBuzz() function with a single integer parameter named upTo. For the numbers 1 up to and including upTo, the function prints one of four things:\n",
    "\n",
    "·       Prints 'FizzBuzz' if the number is divisible by 3 and 5.\n",
    "\n",
    "·       Prints 'Fizz' if the number is only divisible by 3.\n",
    "\n",
    "·       Prints 'Buzz' if the number is only divisible by 5.\n",
    "\n",
    "·       Prints the number if the number is neither divisible by 3 nor 5.\n",
    "\n",
    "Instead of printing each string or number on a separate line, print them without newlines. For example, your solution is correct if calling fizzBuzz(35) produces the following output:\n",
    "\n",
    "1 2 Fizz 4 Buzz Fizz 7 8 Fizz Buzz 11 Fizz 13 14 FizzBuzz 16 17 Fizz 19 Buzz Fizz 22 23 Fizz Buzz 26 Fizz 28 29 FizzBuzz 31 32 Fizz 34 Buzz"
   ]
  },
  {
   "cell_type": "code",
   "execution_count": 6,
   "metadata": {},
   "outputs": [
    {
     "name": "stdout",
     "output_type": "stream",
     "text": [
      "1 2 Fizz 4 Buzz Fizz 7 8 Fizz Buzz 11 Fizz 13 14 FizzBuzz 16 17 Fizz 19 Buzz Fizz 22 23 Fizz Buzz 26 Fizz 28 29 FizzBuzz 31 32 Fizz 34 Buzz "
     ]
    }
   ],
   "source": [
    "def fizzBuzz(upTo):\n",
    "    for num in range(1, upTo + 1):\n",
    "        if num % 3 == 0 and num % 5 == 0:\n",
    "            print('FizzBuzz', end=' ')\n",
    "        elif num % 3 == 0:\n",
    "            print ('Fizz', end=' ')\n",
    "        elif num % 5 == 0:\n",
    "            print('Buzz', end=' ')\n",
    "        else:\n",
    "            print(num, end=' ')\n",
    "    \n",
    "fizzBuzz(35)"
   ]
  },
  {
   "attachments": {},
   "cell_type": "markdown",
   "metadata": {},
   "source": [
    "---"
   ]
  },
  {
   "attachments": {},
   "cell_type": "markdown",
   "metadata": {},
   "source": [
    "## EXERCISE #6: ORDINAL SUFFIX"
   ]
  },
  {
   "attachments": {},
   "cell_type": "markdown",
   "metadata": {},
   "source": [
    "In English, ordinal numerals have suffixes such as the “th” in “30th” or “nd” in “2nd”. Write an ordinalSuffix() function with an integer parameter named number and returns a string of the number with its ordinal suffix. For example, ordinalSuffix(42) should return the string '42nd'.\n",
    "\n",
    "You may use Python’s str() function to convert the integer argument to a string. Python’s endswith() string method could be useful for this exercise, but to maintain the challenge in this exercise, don’t use it as part of your solution."
   ]
  },
  {
   "cell_type": "code",
   "execution_count": 7,
   "metadata": {},
   "outputs": [],
   "source": [
    "def ordinalSuffix(number):\n",
    "    number_str = str(number)\n",
    "\n",
    "    if number_str[-2:] in ['11', '12', '13']:\n",
    "        return number_str + 'th'\n",
    "    elif number_str[-1:] == '1':\n",
    "        return number_str + 'st'\n",
    "    elif number_str[-1:] == '2':\n",
    "        return number_str + 'nd'\n",
    "    elif number_str[-1:] == '3':\n",
    "        return number_str + 'rd'\n",
    "    else:\n",
    "        return number_str + 'th'\n",
    "\n",
    "\n",
    "# These Python assert statements stop the program if their condition is False:\n",
    "assert ordinalSuffix(0) == '0th'\n",
    "assert ordinalSuffix(1) == '1st'\n",
    "assert ordinalSuffix(2) == '2nd'\n",
    "assert ordinalSuffix(3) == '3rd'\n",
    "assert ordinalSuffix(4) == '4th'\n",
    "assert ordinalSuffix(10) == '10th'\n",
    "assert ordinalSuffix(11) == '11th'\n",
    "assert ordinalSuffix(12) == '12th'\n",
    "assert ordinalSuffix(13) == '13th'\n",
    "assert ordinalSuffix(14) == '14th'\n",
    "assert ordinalSuffix(101) == '101st'"
   ]
  },
  {
   "attachments": {},
   "cell_type": "markdown",
   "metadata": {},
   "source": [
    "---"
   ]
  },
  {
   "attachments": {},
   "cell_type": "markdown",
   "metadata": {},
   "source": [
    "## EXERCISE #7: ASCII TABLE"
   ]
  },
  {
   "attachments": {},
   "cell_type": "markdown",
   "metadata": {},
   "source": [
    "Write a printASCIITable() function that displays the ASCII number and its corresponding text character, from 32 to 126. (These are called the printable ASCII characters.)\n",
    "\n",
    "Your solution is correct if calling printASCIITable() displays output that looks like the following:\n",
    "\n",
    "32 \n",
    "\n",
    "33 !\n",
    "\n",
    "34 \"\n",
    "\n",
    "35 #\n",
    "\n",
    "--more--\n",
    "\n",
    "124 |\n",
    "\n",
    "125 }\n",
    "\n",
    "126 ~\n",
    "\n",
    "Note that the character for ASCII value 32 is the space character, which is why it looks like nothing is next to 32 in the output."
   ]
  },
  {
   "cell_type": "code",
   "execution_count": 8,
   "metadata": {},
   "outputs": [
    {
     "name": "stdout",
     "output_type": "stream",
     "text": [
      "32  \n",
      "33 !\n",
      "34 \"\n",
      "35 #\n",
      "36 $\n",
      "37 %\n",
      "38 &\n",
      "39 '\n",
      "40 (\n",
      "41 )\n",
      "42 *\n",
      "43 +\n",
      "44 ,\n",
      "45 -\n",
      "46 .\n",
      "47 /\n",
      "48 0\n",
      "49 1\n",
      "50 2\n",
      "51 3\n",
      "52 4\n",
      "53 5\n",
      "54 6\n",
      "55 7\n",
      "56 8\n",
      "57 9\n",
      "58 :\n",
      "59 ;\n",
      "60 <\n",
      "61 =\n",
      "62 >\n",
      "63 ?\n",
      "64 @\n",
      "65 A\n",
      "66 B\n",
      "67 C\n",
      "68 D\n",
      "69 E\n",
      "70 F\n",
      "71 G\n",
      "72 H\n",
      "73 I\n",
      "74 J\n",
      "75 K\n",
      "76 L\n",
      "77 M\n",
      "78 N\n",
      "79 O\n",
      "80 P\n",
      "81 Q\n",
      "82 R\n",
      "83 S\n",
      "84 T\n",
      "85 U\n",
      "86 V\n",
      "87 W\n",
      "88 X\n",
      "89 Y\n",
      "90 Z\n",
      "91 [\n",
      "92 \\\n",
      "93 ]\n",
      "94 ^\n",
      "95 _\n",
      "96 `\n",
      "97 a\n",
      "98 b\n",
      "99 c\n",
      "100 d\n",
      "101 e\n",
      "102 f\n",
      "103 g\n",
      "104 h\n",
      "105 i\n",
      "106 j\n",
      "107 k\n",
      "108 l\n",
      "109 m\n",
      "110 n\n",
      "111 o\n",
      "112 p\n",
      "113 q\n",
      "114 r\n",
      "115 s\n",
      "116 t\n",
      "117 u\n",
      "118 v\n",
      "119 w\n",
      "120 x\n",
      "121 y\n",
      "122 z\n",
      "123 {\n",
      "124 |\n",
      "125 }\n",
      "126 ~\n"
     ]
    }
   ],
   "source": [
    "def printASCII():\n",
    "    for i in range(32, 127):\n",
    "        print(i, chr(i))\n",
    "\n",
    "printASCII()"
   ]
  },
  {
   "attachments": {},
   "cell_type": "markdown",
   "metadata": {},
   "source": [
    "---"
   ]
  },
  {
   "attachments": {},
   "cell_type": "markdown",
   "metadata": {},
   "source": [
    "## EXERCISE #8: READ WRITE FILE"
   ]
  },
  {
   "attachments": {},
   "cell_type": "markdown",
   "metadata": {},
   "source": [
    "You will write three functions for this exercise. First, write a writeToFile() function with two parameters for the filename of the file and the text to write into the file. Second, write an appendToFile() function, which is identical to writeToFile() except that the file opens in append mode instead of write mode. Finally, write a readFromFile() function with one parameter for the filename to open. This function returns the full text contents of the file as a string."
   ]
  },
  {
   "cell_type": "code",
   "execution_count": 9,
   "metadata": {},
   "outputs": [],
   "source": [
    "def writeToFile(filename, text):\n",
    "    with open(filename, 'w') as the_file:\n",
    "        the_file.write(text)\n",
    "\n",
    "def appendToFile(filename, text):\n",
    "    with open(filename, 'a') as the_file:\n",
    "        the_file.write(text)\n",
    "\n",
    "def readFromFile(filename):\n",
    "    with open(filename, 'r') as the_file:\n",
    "        return the_file.read()\n",
    "\n",
    "# These Python instructions should generate the file and the assert statement checks that the content is correct:\n",
    "writeToFile('greet.txt', 'Hello!\\n')\n",
    "appendToFile('greet.txt', 'Goodbye!\\n')\n",
    "assert readFromFile('greet.txt') == 'Hello!\\nGoodbye!\\n'"
   ]
  },
  {
   "attachments": {},
   "cell_type": "markdown",
   "metadata": {},
   "source": [
    "---\n",
    "\n"
   ]
  },
  {
   "attachments": {},
   "cell_type": "markdown",
   "metadata": {},
   "source": [
    "## EXERCISE #9: CHESS SQUARE COLOR"
   ]
  },
  {
   "attachments": {},
   "cell_type": "markdown",
   "metadata": {},
   "source": [
    "Write a getChessSquareColor() function that has parameters column and row. The function either returns 'black' or 'white' depending on the color at the specified column and row. Chess boards are 8 x 8 spaces in size, and the columns and rows in this program begin at 1 and end at 8. If the arguments for column or row are outside the 0 to 7 range, the function returns a blank string.\n",
    "\n",
    "Note that chess boards always have a white square in the top left corner."
   ]
  },
  {
   "cell_type": "code",
   "execution_count": 10,
   "metadata": {},
   "outputs": [],
   "source": [
    "def getChessSquareColor(column, row):\n",
    "    if column < 1 or column > 8 or row < 1 or row > 8:\n",
    "        return ''\n",
    "    if (column + row) % 2 == 0:\n",
    "        return 'white'\n",
    "    else:\n",
    "        return 'black'\n",
    "\n",
    "# These Python assert statements stop the program if their condition is False:\n",
    "assert getChessSquareColor(1, 1) == 'white'\n",
    "assert getChessSquareColor(2, 1) == 'black'\n",
    "assert getChessSquareColor(1, 2) == 'black'\n",
    "assert getChessSquareColor(8, 8) == 'white'\n",
    "assert getChessSquareColor(0, 8) == ''\n",
    "assert getChessSquareColor(2, 9) == ''"
   ]
  },
  {
   "attachments": {},
   "cell_type": "markdown",
   "metadata": {},
   "source": [
    "---"
   ]
  },
  {
   "attachments": {},
   "cell_type": "markdown",
   "metadata": {},
   "source": [
    "## EXERCISE #10: FIND AND REPLACE"
   ]
  },
  {
   "attachments": {},
   "cell_type": "markdown",
   "metadata": {},
   "source": [
    "Write a findAndReplace() function that has three parameters: text is the string with text to be replaced, oldText is the text to be replaced, and newText is the replacement text. Keep in mind that this function must be case-sensitive: if you are replacing 'dog' with 'fox', then the 'DOG' in 'MY DOG JONESY' won’t be replaced."
   ]
  },
  {
   "cell_type": "code",
   "execution_count": 11,
   "metadata": {},
   "outputs": [],
   "source": [
    "def findAndReplace(text, oldText, newText):\n",
    "    replacedText = ''\n",
    "    i = 0\n",
    "    while i < len(text):\n",
    "        if text[i:i + len(oldText)] == oldText:\n",
    "            replacedText += newText\n",
    "            i += len(oldText)\n",
    "        else:\n",
    "            replacedText += text[i]\n",
    "            i += 1\n",
    "    return replacedText\n",
    "\n",
    "\n",
    "# These Python assert statements stop the program if their condition is False:\n",
    "assert findAndReplace('The fox', 'fox', 'dog') == 'The dog'\n",
    "assert findAndReplace('fox', 'fox', 'dog') == 'dog'\n",
    "assert findAndReplace('Firefox', 'fox', 'dog') == 'Firedog'\n",
    "assert findAndReplace('foxfox', 'fox', 'dog') == 'dogdog'\n",
    "assert findAndReplace('The Fox and fox.', 'fox', 'dog') == 'The Fox and dog.'"
   ]
  },
  {
   "attachments": {},
   "cell_type": "markdown",
   "metadata": {},
   "source": [
    "---"
   ]
  },
  {
   "attachments": {},
   "cell_type": "markdown",
   "metadata": {},
   "source": [
    "## EXERCISE #11: HOURS, MINUTES, SECONDS"
   ]
  },
  {
   "attachments": {},
   "cell_type": "markdown",
   "metadata": {},
   "source": [
    "Write a getHoursMinutesSeconds() function that has a totalSeconds parameter. The argument for this parameter will be the number of seconds to be translated into the number of hours, minutes, and seconds. If the amount for the hours, minutes, or seconds is zero, don’t show it: the function should return '10m' rather than '0h 10m 0s'. The only exception is that getHoursMinutesSeconds(0) should return '0s'."
   ]
  },
  {
   "cell_type": "code",
   "execution_count": 12,
   "metadata": {},
   "outputs": [],
   "source": [
    "def getHoursMinutesSeconds(totalSeconds):\n",
    "    if totalSeconds == 0:\n",
    "        return '0s'\n",
    "    \n",
    "    hours = 0\n",
    "    while totalSeconds >= 3600:\n",
    "        hours += 1\n",
    "        totalSeconds -= 3600\n",
    "    \n",
    "    minutes = 0\n",
    "    while totalSeconds >= 60:\n",
    "        minutes += 1\n",
    "        totalSeconds -= 60\n",
    "\n",
    "    seconds = totalSeconds\n",
    "    hms = []\n",
    "    if hours > 0:\n",
    "        hms.append(str(hours) + 'h')\n",
    "\n",
    "    if minutes > 0:\n",
    "        hms.append(str(minutes) + 'm')\n",
    "\n",
    "    if seconds > 0:\n",
    "        hms.append(str(seconds) + 's')\n",
    "\n",
    "    return ' '.join(hms)\n",
    "\n",
    "    \n",
    "# These Python assert statements stop the program if their condition is False:\n",
    "assert getHoursMinutesSeconds(30) == '30s'\n",
    "assert getHoursMinutesSeconds(60) == '1m'\n",
    "assert getHoursMinutesSeconds(90) == '1m 30s'\n",
    "assert getHoursMinutesSeconds(3600) == '1h'\n",
    "assert getHoursMinutesSeconds(3601) == '1h 1s'\n",
    "assert getHoursMinutesSeconds(3661) == '1h 1m 1s'\n",
    "assert getHoursMinutesSeconds(90042) == '25h 42s'\n",
    "assert getHoursMinutesSeconds(0) == '0s'"
   ]
  },
  {
   "attachments": {},
   "cell_type": "markdown",
   "metadata": {},
   "source": [
    "---"
   ]
  },
  {
   "attachments": {},
   "cell_type": "markdown",
   "metadata": {},
   "source": [
    "## EXERCISE #12: SMALLEST & BIGGEST"
   ]
  },
  {
   "attachments": {},
   "cell_type": "markdown",
   "metadata": {},
   "source": [
    "Write a getSmallest() function that has a numbers parameter. The numbers parameter will be a list of integer and floating-point number values. The function returns the smallest value in the list. If the list is empty, the function should return None. Since this function replicates Python’s min() function, your solution shouldn’t use it."
   ]
  },
  {
   "cell_type": "code",
   "execution_count": 13,
   "metadata": {},
   "outputs": [],
   "source": [
    "def getSmallest(numbers):\n",
    "    if not numbers:\n",
    "        return None\n",
    "    numbers.sort()\n",
    "    smallest = numbers[0]\n",
    "    return smallest\n",
    "\n",
    "\n",
    "# These Python assert statements stop the program if their condition is False:\n",
    "assert getSmallest([1, 2, 3]) == 1\n",
    "assert getSmallest([3, 2, 1]) == 1\n",
    "assert getSmallest([28, 25, 42, 2, 28]) == 2\n",
    "assert getSmallest([1]) == 1\n",
    "assert getSmallest([]) == None"
   ]
  },
  {
   "attachments": {},
   "cell_type": "markdown",
   "metadata": {},
   "source": [
    "---"
   ]
  },
  {
   "attachments": {},
   "cell_type": "markdown",
   "metadata": {},
   "source": [
    "## EXERCISE #13: SUM & PRODUCT"
   ]
  },
  {
   "attachments": {},
   "cell_type": "markdown",
   "metadata": {},
   "source": [
    "Write two functions named calculateSum() and calculateProduct(). They both have a parameter named numbers, which will be a list of integer or floating-point values. The calculateSum() function adds these numbers and returns the sum while the calculateProduct() function multiplies these numbers and returns the product. If the list passed to calculateSum() is empty, the function returns 0. If the list passed to calculateProduct() is empty, the function returns 1. Since this function replicates Python’s sum() function, your solution shouldn’t call."
   ]
  },
  {
   "cell_type": "code",
   "execution_count": 14,
   "metadata": {},
   "outputs": [],
   "source": [
    "def calculateSum(numbers):\n",
    "    result = 0\n",
    "    for number in numbers:\n",
    "        result += number\n",
    "    return result\n",
    "\n",
    "def calculateProduct(numbers):\n",
    "    result = 1\n",
    "    for number in numbers:\n",
    "        result *= number\n",
    "    return result\n",
    "\n",
    "\n",
    "# These Python assert statements stop the program if their condition is False:\n",
    "assert calculateSum([]) == 0\n",
    "assert calculateSum([2, 4, 6, 8, 10]) == 30\n",
    "assert calculateProduct([]) == 1\n",
    "assert calculateProduct([2, 4, 6, 8, 10]) == 3840"
   ]
  },
  {
   "attachments": {},
   "cell_type": "markdown",
   "metadata": {},
   "source": [
    "---"
   ]
  },
  {
   "attachments": {},
   "cell_type": "markdown",
   "metadata": {},
   "source": [
    "## EXERCISE #14: AVERAGE"
   ]
  },
  {
   "attachments": {},
   "cell_type": "markdown",
   "metadata": {},
   "source": [
    "Write an average() function that has a numbers parameter. This function returns the statistical average of the list of integer and floating-point numbers passed to the function. While Python’s built-in sum() function can help you solve this exercise, try writing the solution without using it."
   ]
  },
  {
   "cell_type": "code",
   "execution_count": 15,
   "metadata": {},
   "outputs": [],
   "source": [
    "def average(numbers):\n",
    "    if not numbers:\n",
    "        return None\n",
    "    suma = 0\n",
    "    for number in numbers:\n",
    "        suma += number\n",
    "    return suma / len(numbers)\n",
    "\n",
    "\n",
    "# These Python assert statements stop the program if their condition is False:\n",
    "assert average([1, 2, 3]) == 2\n",
    "assert average([1, 2, 3, 1, 2, 3, 1, 2, 3]) == 2\n",
    "assert average([12, 20, 37]) == 23\n",
    "assert average([0, 0, 0, 0, 0]) == 0\n",
    "import random\n",
    "random.seed(42)\n",
    "testData = [1, 2, 3, 1, 2, 3, 1, 2, 3]\n",
    "for i in range(1000):\n",
    "    random.shuffle(testData)\n",
    "    assert average(testData) == 2"
   ]
  },
  {
   "attachments": {},
   "cell_type": "markdown",
   "metadata": {},
   "source": [
    "---"
   ]
  },
  {
   "attachments": {},
   "cell_type": "markdown",
   "metadata": {},
   "source": [
    "## EXERCISE #15: MEDIAN"
   ]
  },
  {
   "attachments": {},
   "cell_type": "markdown",
   "metadata": {},
   "source": [
    "Write a median() function that has a numbers parameter. This function returns the statistical median of the numbers list. The median of an odd-length list is the number in the middlemost number when the list is in sorted order. If the list has an even length, the median is the average of the two middlemost numbers when the list is in sorted order. Feel free to use Python’s built-in sort() method to sort the numbers list."
   ]
  },
  {
   "cell_type": "code",
   "execution_count": 16,
   "metadata": {},
   "outputs": [],
   "source": [
    "def median(numbers):\n",
    "    if not numbers:\n",
    "        return None\n",
    "    \n",
    "    numbers.sort()    \n",
    "    middle =  len(numbers) // 2\n",
    "\n",
    "    if len(numbers) % 2 == 0:\n",
    "        return (numbers[middle] + numbers[middle - 1]) / 2\n",
    "    else:\n",
    "        return numbers[middle]\n",
    "    \n",
    "\n",
    "# These Python assert statements stop the program if their condition is False:\n",
    "assert median([]) == None\n",
    "assert median([1, 2, 3]) == 2\n",
    "assert median([3, 7, 10, 4, 1, 9, 6, 5, 2, 8]) == 5.5\n",
    "assert median([3, 7, 10, 4, 1, 9, 6, 2, 8]) == 6\n",
    "import random\n",
    "random.seed(42)\n",
    "testData = [3, 7, 10, 4, 1, 9, 6, 2, 8]\n",
    "for i in range(1000):\n",
    "    random.shuffle(testData)\n",
    "    assert median(testData) == 6\n"
   ]
  },
  {
   "attachments": {},
   "cell_type": "markdown",
   "metadata": {},
   "source": [
    "---"
   ]
  },
  {
   "attachments": {},
   "cell_type": "markdown",
   "metadata": {},
   "source": [
    "## EXERCISE #16: MODE"
   ]
  },
  {
   "attachments": {},
   "cell_type": "markdown",
   "metadata": {},
   "source": [
    "Write a mode() function that has a numbers parameter. This function returns the mode, or most frequently appearing number, of the list of integer and floating-point numbers passed to the function."
   ]
  },
  {
   "cell_type": "code",
   "execution_count": 17,
   "metadata": {},
   "outputs": [],
   "source": [
    "def mode(numbers):\n",
    "    if not numbers:\n",
    "        return None\n",
    "    \n",
    "    check = {}\n",
    "    value = None\n",
    "    freq = 0\n",
    "    for number in numbers:\n",
    "        if number not in check:\n",
    "            check[number] = 0\n",
    "        check[number] += 1\n",
    "\n",
    "        if check[number] > freq:\n",
    "            value = number\n",
    "            freq = check[number]\n",
    "    return value\n",
    "\n",
    "\n",
    "# These Python assert statements stop the program if their condition is False:\n",
    "assert mode([]) == None\n",
    "assert mode([1, 2, 3, 4, 4]) == 4\n",
    "assert mode([1, 1, 2, 3, 4]) == 1\n",
    "import random\n",
    "random.seed(42)\n",
    "testData = [1, 2, 3, 4, 4]\n",
    "for i in range(1000):\n",
    "    random.shuffle(testData)\n",
    "    assert mode(testData) == 4"
   ]
  },
  {
   "attachments": {},
   "cell_type": "markdown",
   "metadata": {},
   "source": [
    "---"
   ]
  },
  {
   "attachments": {},
   "cell_type": "markdown",
   "metadata": {},
   "source": [
    "## EXERCISE #17: DICE ROLL"
   ]
  },
  {
   "attachments": {},
   "cell_type": "markdown",
   "metadata": {},
   "source": [
    "Write a rollDice() function with a numberOfDice parameter that represents the number of six-sided dice. The function returns the sum of all of the dice rolls. For this exercise you must import Python’s random module to call its random.randint() function for this exercise."
   ]
  },
  {
   "cell_type": "code",
   "execution_count": 18,
   "metadata": {},
   "outputs": [],
   "source": [
    "import random\n",
    "def rollDice(numberOfDice):\n",
    "    total = 0\n",
    "    for i in range(1, numberOfDice + 1):\n",
    "         total += random.randint(1, 6)\n",
    "\n",
    "    return total\n",
    "\n",
    "\n",
    "# These Python assert statements stop the program if their condition is False:\n",
    "assert rollDice(0) == 0\n",
    "assert rollDice(1000) != rollDice(1000)\n",
    "for i in range(1000):\n",
    "    assert 1 <= rollDice(1) <= 6\n",
    "    assert 2 <= rollDice(2) <= 12\n",
    "    assert 3 <= rollDice(3) <= 18\n",
    "    assert 100 <= rollDice(100) <= 600"
   ]
  },
  {
   "attachments": {},
   "cell_type": "markdown",
   "metadata": {},
   "source": [
    "---"
   ]
  },
  {
   "attachments": {},
   "cell_type": "markdown",
   "metadata": {},
   "source": [
    "## EXERCISE #18: BUY 8 GET 1 FREE"
   ]
  },
  {
   "attachments": {},
   "cell_type": "markdown",
   "metadata": {},
   "source": [
    "Write a function named getCostOfCoffee() that has a parameters named numberOfCoffees and pricePerCoffee. Given this information, the function returns the total cost of the coffee order. This is not a simple multiplication of cost and quantity, however, because the coffee shop has an offer where you get one free coffee for every eight coffees you buy.\n",
    "\n",
    "For example, buying eight coffees for $2.50 each costs $20 (or 8 × 2.5). But buying nine coffees also costs $20, since the first eight makes the ninth coffee free. Buying ten coffees calculates as follows: $20 for the first eight coffees, a free ninth coffee, and $2.50 for the tenth coffee for a total of $22.50."
   ]
  },
  {
   "cell_type": "code",
   "execution_count": 19,
   "metadata": {},
   "outputs": [],
   "source": [
    "def getCostOfCoffee(numberOfCoffees, pricePerCoffee):\n",
    "  \n",
    "    total = 0\n",
    "    free_at = 8\n",
    "       \n",
    "    while numberOfCoffees > 0:\n",
    "        numberOfCoffees -= 1\n",
    "        if free_at == 0:            \n",
    "            free_at = 8    \n",
    "        else:\n",
    "            total += pricePerCoffee \n",
    "            free_at -= 1\n",
    "        \n",
    "    return total\n",
    "\n",
    "# or\n",
    "\n",
    "def getCostOfCoffee(numberOfCoffees, pricePerCoffee):\n",
    "    free = numberOfCoffees // 9\n",
    "    paid = numberOfCoffees - free\n",
    "    return paid * pricePerCoffee\n",
    "\n",
    "\n",
    "# These Python assert statements stop the program if their condition is False:\n",
    "assert getCostOfCoffee(7, 2.50) == 17.50\n",
    "assert getCostOfCoffee(8, 2.50) == 20\n",
    "assert getCostOfCoffee(9, 2.50) == 20\n",
    "assert getCostOfCoffee(10, 2.50) == 22.50\n",
    "for i in range(1, 4):\n",
    "    assert getCostOfCoffee(0, i) == 0\n",
    "    assert getCostOfCoffee(8, i) == 8 * i\n",
    "    assert getCostOfCoffee(9, i) == 8 * i\n",
    "    assert getCostOfCoffee(18, i) == 16 * i\n",
    "    assert getCostOfCoffee(19, i) == 17 * i\n",
    "    assert getCostOfCoffee(30, i) == 27 * i"
   ]
  },
  {
   "cell_type": "markdown",
   "metadata": {},
   "source": [
    "---"
   ]
  },
  {
   "cell_type": "markdown",
   "metadata": {},
   "source": [
    "## EXERCISE #19: PASSWORD GENERATOR"
   ]
  },
  {
   "cell_type": "markdown",
   "metadata": {},
   "source": [
    "Write a generatePassword() function that has a length parameter. The length parameter is an integer of how many characters the generated password should have. For security reasons, if length is less than 12, the function forcibly sets it to 12 characters anyway. The password string returned by the function must have at least one lowercase letter, one uppercase letter, one number, and one special character. The special characters for this exercise are ~!@#$%^&*()_+."
   ]
  },
  {
   "cell_type": "code",
   "execution_count": 20,
   "metadata": {},
   "outputs": [],
   "source": [
    "import random\n",
    "\n",
    "LOWER_LETTERS = 'abcdefghijklmnopqrstuvwxyz'\n",
    "UPPER_LETTERS = 'ABCDEFGHIJKLMNOPQRSTUVWXYZ'\n",
    "NUMBERS = '1234567890'\n",
    "SPECIAL = '~!@#$%^&*()_+'\n",
    "\n",
    "ALL_CHARS = LOWER_LETTERS + UPPER_LETTERS + NUMBERS + SPECIAL\n",
    "\n",
    "def generatePassword(length):\n",
    "    if length < 12:\n",
    "        length = 12\n",
    "        \n",
    "    password = []\n",
    "\n",
    "    password.append(LOWER_LETTERS[random.randint(0, len(LOWER_LETTERS)-1)])\n",
    "    password.append(UPPER_LETTERS[random.randint(0, len(UPPER_LETTERS)-1)])\n",
    "    password.append(NUMBERS[random.randint(0, len(NUMBERS)-1)])\n",
    "    password.append(SPECIAL[random.randint(0, len(SPECIAL)-1)])\n",
    "\n",
    "    while len(password) < length:\n",
    "        password.append(ALL_CHARS[random.randint(0, len(ALL_CHARS)-1)])\n",
    "    \n",
    "    random.shuffle(password)\n",
    "    return \"\".join(password)\n",
    "\n",
    "\n",
    "# These Python assert statements stop the program if their condition is False:\n",
    "assert len(generatePassword(8)) == 12\n",
    "pw = generatePassword(14)\n",
    "assert len(pw) == 14\n",
    "hasLowercase = False\n",
    "hasUppercase = False\n",
    "hasNumber = False\n",
    "hasSpecial = False\n",
    "for character in pw:\n",
    "    if character in LOWER_LETTERS:\n",
    "        hasLowercase = True\n",
    "    if character in UPPER_LETTERS:\n",
    "        hasUppercase = True\n",
    "    if character in NUMBERS:\n",
    "        hasNumber = True\n",
    "    if character in SPECIAL:\n",
    "        hasSpecial = True\n",
    "assert hasLowercase and hasUppercase and hasNumber and hasSpecial"
   ]
  },
  {
   "cell_type": "markdown",
   "metadata": {},
   "source": [
    "---"
   ]
  },
  {
   "cell_type": "markdown",
   "metadata": {},
   "source": [
    "## EXERCISE #20: LEAP YEAR"
   ]
  },
  {
   "cell_type": "markdown",
   "metadata": {},
   "source": [
    "Write a isLeapYear() function with an integer year parameter. If year is a leap year, the function returns True. Otherwise, the function returns False.\n",
    "Determining leap years involves checking if an integer is divisible by 4, 100, and 400."
   ]
  },
  {
   "cell_type": "code",
   "execution_count": 21,
   "metadata": {},
   "outputs": [],
   "source": [
    "def isLeapYear(year):\n",
    "    if year % 400 == 0:\n",
    "        return True\n",
    "    elif year % 100 == 0:\n",
    "        return False\n",
    "    elif year % 4 == 0:\n",
    "        return True\n",
    "    else:\n",
    "        return False        \n",
    "\n",
    "\n",
    "# These Python assert statements stop the program if their condition is False:\n",
    "assert isLeapYear(1999) == False\n",
    "assert isLeapYear(2000) == True\n",
    "assert isLeapYear(2001) == False\n",
    "assert isLeapYear(2004) == True\n",
    "assert isLeapYear(2100) == False\n",
    "assert isLeapYear(2400) == True"
   ]
  },
  {
   "cell_type": "markdown",
   "metadata": {},
   "source": [
    "---"
   ]
  },
  {
   "cell_type": "markdown",
   "metadata": {},
   "source": [
    "## EXERCISE #21: VALIDATE DATE"
   ]
  },
  {
   "cell_type": "markdown",
   "metadata": {},
   "source": [
    "Write an isValidDate() function with parameters year, month, and day. The function should return True if the integers provided for these parameters represent a valid date. Otherwise, the function returns False. Months are represented by the integers 1 (for January) to 12 (for December) and days are represented by integers 1 up to 28, 29, 30, or 31 depending on the month and year."
   ]
  },
  {
   "cell_type": "code",
   "execution_count": 22,
   "metadata": {},
   "outputs": [],
   "source": [
    "def isValidDate(year, month, day):\n",
    "    if month < 1 or month > 12:\n",
    "        return False\n",
    "\n",
    "    if month == 2:\n",
    "        if isLeapYear(year):\n",
    "            return day >= 1 and day <= 29\n",
    "        else:\n",
    "            return day >= 1 and day <= 28\n",
    "\n",
    "    if month in [4, 6, 9, 11]:\n",
    "        return day >= 1 and day <= 30\n",
    "\n",
    "    return day >= 1 and day <= 31\n",
    "\n",
    "\n",
    "# These Python assert statements stop the program if their condition is False:\n",
    "assert isValidDate(1999, 12, 31) == True\n",
    "assert isValidDate(2000, 2, 29) == True\n",
    "assert isValidDate(2001, 2, 29) == False\n",
    "assert isValidDate(2029, 13, 1) == False\n",
    "assert isValidDate(1000000, 1, 1) == True\n",
    "assert isValidDate(2015, 4, 31) == False\n",
    "assert isValidDate(1970, 5, 99) == False\n",
    "assert isValidDate(1981, 0, 3) == False\n",
    "assert isValidDate(1666, 4, 0) == False\n",
    "\n",
    "import datetime\n",
    "d = datetime.date(1970, 1, 1)\n",
    "oneDay = datetime.timedelta(days=1)\n",
    "for i in range(1000000):\n",
    "    assert isValidDate(d.year, d.month, d.day) == True\n",
    "    d += oneDay"
   ]
  },
  {
   "cell_type": "markdown",
   "metadata": {},
   "source": [
    "---"
   ]
  },
  {
   "cell_type": "markdown",
   "metadata": {},
   "source": [
    "## EXERCISE #22: ROCK, PAPER, SCISSORS"
   ]
  },
  {
   "cell_type": "markdown",
   "metadata": {},
   "source": [
    "Write a rpsWinner() function with parameters player1 and player2. These parameters are passed one of the strings 'rock', 'paper', or 'scissors' representing that player’s move. If this results in player 1 winning, the function returns 'player one'. If this results in player 2 winning, the function returns 'player two'. Otherwise, the function returns 'tie'."
   ]
  },
  {
   "cell_type": "code",
   "execution_count": 23,
   "metadata": {},
   "outputs": [],
   "source": [
    "def rpsWinner(player1, player2):\n",
    "    valid_entries = ['rock', 'paper', 'scissors']\n",
    "    # if player1 != valid_entries or player2 != valid_entries:\n",
    "    #     print(\"Please use 'rock', 'paper', or 'scissors'.\") --- I left it out to avoid an infinite loop\n",
    "\n",
    "    if player1 == 'rock' and player2 == 'rock':\n",
    "        return 'tie'\n",
    "    elif player1 == 'paper' and player2 == 'paper':\n",
    "        return 'tie'\n",
    "    elif player1 == 'scissors' and player2 == 'scissors':\n",
    "        return 'tie'\n",
    "    elif player1 == 'rock' and player2 == 'scissors':\n",
    "        return 'player one'\n",
    "    elif player1 == 'paper' and player2 == 'rock':\n",
    "        return 'player one'\n",
    "    elif player1 == 'scissors' and player2 == 'paper':\n",
    "        return 'player one'\n",
    "    else:\n",
    "        return 'player two'\n",
    " \n",
    "\n",
    "# These Python assert statements stop the program if their condition is False:\n",
    "assert rpsWinner('rock', 'paper') == 'player two'\n",
    "assert rpsWinner('rock', 'scissors') == 'player one'\n",
    "assert rpsWinner('paper', 'scissors') == 'player two'\n",
    "assert rpsWinner('paper', 'rock') == 'player one'\n",
    "assert rpsWinner('scissors', 'rock') == 'player two'\n",
    "assert rpsWinner('scissors', 'paper') == 'player one'\n",
    "assert rpsWinner('rock', 'rock') == 'tie'\n",
    "assert rpsWinner('paper', 'paper') == 'tie'\n",
    "assert rpsWinner('scissors', 'scissors') == 'tie'"
   ]
  },
  {
   "cell_type": "markdown",
   "metadata": {},
   "source": [
    "---"
   ]
  },
  {
   "cell_type": "markdown",
   "metadata": {},
   "source": [
    "## EXERCISE #23: 99 BOTTLES OF BEER"
   ]
  },
  {
   "cell_type": "markdown",
   "metadata": {},
   "source": [
    "Write a program that displays the lyrics to “99 Bottles of Beer.” Each stanza of the song goes like this:\n",
    "\n",
    "X bottles of beer on the wall,\n",
    "X bottles of beer,\n",
    "Take one down,\n",
    "Pass it around,\n",
    "X – 1 bottles of beer on the wall,\n",
    "\n",
    "The X in the song starts at 99 and decreases by one for each stanza. When X is one (and X – 1 is zero), the last line is “No more bottles of beer on the wall!” After each stanza, display a blank line to separate it from the next stanza."
   ]
  },
  {
   "cell_type": "code",
   "execution_count": 24,
   "metadata": {},
   "outputs": [
    {
     "name": "stdout",
     "output_type": "stream",
     "text": [
      "99 bottles of beer on the wall\n",
      "99 bottles of beer,\n",
      "Take one down,\n",
      "Pass it around,\n",
      "\n",
      "98 bottles of beer on the wall\n",
      "98 bottles of beer,\n",
      "Take one down,\n",
      "Pass it around,\n",
      "\n",
      "97 bottles of beer on the wall\n",
      "97 bottles of beer,\n",
      "Take one down,\n",
      "Pass it around,\n",
      "\n",
      "96 bottles of beer on the wall\n",
      "96 bottles of beer,\n",
      "Take one down,\n",
      "Pass it around,\n",
      "\n",
      "95 bottles of beer on the wall\n",
      "95 bottles of beer,\n",
      "Take one down,\n",
      "Pass it around,\n",
      "\n",
      "94 bottles of beer on the wall\n",
      "94 bottles of beer,\n",
      "Take one down,\n",
      "Pass it around,\n",
      "\n",
      "93 bottles of beer on the wall\n",
      "93 bottles of beer,\n",
      "Take one down,\n",
      "Pass it around,\n",
      "\n",
      "92 bottles of beer on the wall\n",
      "92 bottles of beer,\n",
      "Take one down,\n",
      "Pass it around,\n",
      "\n",
      "91 bottles of beer on the wall\n",
      "91 bottles of beer,\n",
      "Take one down,\n",
      "Pass it around,\n",
      "\n",
      "90 bottles of beer on the wall\n",
      "90 bottles of beer,\n",
      "Take one down,\n",
      "Pass it around,\n",
      "\n",
      "89 bottles of beer on the wall\n",
      "89 bottles of beer,\n",
      "Take one down,\n",
      "Pass it around,\n",
      "\n",
      "88 bottles of beer on the wall\n",
      "88 bottles of beer,\n",
      "Take one down,\n",
      "Pass it around,\n",
      "\n",
      "87 bottles of beer on the wall\n",
      "87 bottles of beer,\n",
      "Take one down,\n",
      "Pass it around,\n",
      "\n",
      "86 bottles of beer on the wall\n",
      "86 bottles of beer,\n",
      "Take one down,\n",
      "Pass it around,\n",
      "\n",
      "85 bottles of beer on the wall\n",
      "85 bottles of beer,\n",
      "Take one down,\n",
      "Pass it around,\n",
      "\n",
      "84 bottles of beer on the wall\n",
      "84 bottles of beer,\n",
      "Take one down,\n",
      "Pass it around,\n",
      "\n",
      "83 bottles of beer on the wall\n",
      "83 bottles of beer,\n",
      "Take one down,\n",
      "Pass it around,\n",
      "\n",
      "82 bottles of beer on the wall\n",
      "82 bottles of beer,\n",
      "Take one down,\n",
      "Pass it around,\n",
      "\n",
      "81 bottles of beer on the wall\n",
      "81 bottles of beer,\n",
      "Take one down,\n",
      "Pass it around,\n",
      "\n",
      "80 bottles of beer on the wall\n",
      "80 bottles of beer,\n",
      "Take one down,\n",
      "Pass it around,\n",
      "\n",
      "79 bottles of beer on the wall\n",
      "79 bottles of beer,\n",
      "Take one down,\n",
      "Pass it around,\n",
      "\n",
      "78 bottles of beer on the wall\n",
      "78 bottles of beer,\n",
      "Take one down,\n",
      "Pass it around,\n",
      "\n",
      "77 bottles of beer on the wall\n",
      "77 bottles of beer,\n",
      "Take one down,\n",
      "Pass it around,\n",
      "\n",
      "76 bottles of beer on the wall\n",
      "76 bottles of beer,\n",
      "Take one down,\n",
      "Pass it around,\n",
      "\n",
      "75 bottles of beer on the wall\n",
      "75 bottles of beer,\n",
      "Take one down,\n",
      "Pass it around,\n",
      "\n",
      "74 bottles of beer on the wall\n",
      "74 bottles of beer,\n",
      "Take one down,\n",
      "Pass it around,\n",
      "\n",
      "73 bottles of beer on the wall\n",
      "73 bottles of beer,\n",
      "Take one down,\n",
      "Pass it around,\n",
      "\n",
      "72 bottles of beer on the wall\n",
      "72 bottles of beer,\n",
      "Take one down,\n",
      "Pass it around,\n",
      "\n",
      "71 bottles of beer on the wall\n",
      "71 bottles of beer,\n",
      "Take one down,\n",
      "Pass it around,\n",
      "\n",
      "70 bottles of beer on the wall\n",
      "70 bottles of beer,\n",
      "Take one down,\n",
      "Pass it around,\n",
      "\n",
      "69 bottles of beer on the wall\n",
      "69 bottles of beer,\n",
      "Take one down,\n",
      "Pass it around,\n",
      "\n",
      "68 bottles of beer on the wall\n",
      "68 bottles of beer,\n",
      "Take one down,\n",
      "Pass it around,\n",
      "\n",
      "67 bottles of beer on the wall\n",
      "67 bottles of beer,\n",
      "Take one down,\n",
      "Pass it around,\n",
      "\n",
      "66 bottles of beer on the wall\n",
      "66 bottles of beer,\n",
      "Take one down,\n",
      "Pass it around,\n",
      "\n",
      "65 bottles of beer on the wall\n",
      "65 bottles of beer,\n",
      "Take one down,\n",
      "Pass it around,\n",
      "\n",
      "64 bottles of beer on the wall\n",
      "64 bottles of beer,\n",
      "Take one down,\n",
      "Pass it around,\n",
      "\n",
      "63 bottles of beer on the wall\n",
      "63 bottles of beer,\n",
      "Take one down,\n",
      "Pass it around,\n",
      "\n",
      "62 bottles of beer on the wall\n",
      "62 bottles of beer,\n",
      "Take one down,\n",
      "Pass it around,\n",
      "\n",
      "61 bottles of beer on the wall\n",
      "61 bottles of beer,\n",
      "Take one down,\n",
      "Pass it around,\n",
      "\n",
      "60 bottles of beer on the wall\n",
      "60 bottles of beer,\n",
      "Take one down,\n",
      "Pass it around,\n",
      "\n",
      "59 bottles of beer on the wall\n",
      "59 bottles of beer,\n",
      "Take one down,\n",
      "Pass it around,\n",
      "\n",
      "58 bottles of beer on the wall\n",
      "58 bottles of beer,\n",
      "Take one down,\n",
      "Pass it around,\n",
      "\n",
      "57 bottles of beer on the wall\n",
      "57 bottles of beer,\n",
      "Take one down,\n",
      "Pass it around,\n",
      "\n",
      "56 bottles of beer on the wall\n",
      "56 bottles of beer,\n",
      "Take one down,\n",
      "Pass it around,\n",
      "\n",
      "55 bottles of beer on the wall\n",
      "55 bottles of beer,\n",
      "Take one down,\n",
      "Pass it around,\n",
      "\n",
      "54 bottles of beer on the wall\n",
      "54 bottles of beer,\n",
      "Take one down,\n",
      "Pass it around,\n",
      "\n",
      "53 bottles of beer on the wall\n",
      "53 bottles of beer,\n",
      "Take one down,\n",
      "Pass it around,\n",
      "\n",
      "52 bottles of beer on the wall\n",
      "52 bottles of beer,\n",
      "Take one down,\n",
      "Pass it around,\n",
      "\n",
      "51 bottles of beer on the wall\n",
      "51 bottles of beer,\n",
      "Take one down,\n",
      "Pass it around,\n",
      "\n",
      "50 bottles of beer on the wall\n",
      "50 bottles of beer,\n",
      "Take one down,\n",
      "Pass it around,\n",
      "\n",
      "49 bottles of beer on the wall\n",
      "49 bottles of beer,\n",
      "Take one down,\n",
      "Pass it around,\n",
      "\n",
      "48 bottles of beer on the wall\n",
      "48 bottles of beer,\n",
      "Take one down,\n",
      "Pass it around,\n",
      "\n",
      "47 bottles of beer on the wall\n",
      "47 bottles of beer,\n",
      "Take one down,\n",
      "Pass it around,\n",
      "\n",
      "46 bottles of beer on the wall\n",
      "46 bottles of beer,\n",
      "Take one down,\n",
      "Pass it around,\n",
      "\n",
      "45 bottles of beer on the wall\n",
      "45 bottles of beer,\n",
      "Take one down,\n",
      "Pass it around,\n",
      "\n",
      "44 bottles of beer on the wall\n",
      "44 bottles of beer,\n",
      "Take one down,\n",
      "Pass it around,\n",
      "\n",
      "43 bottles of beer on the wall\n",
      "43 bottles of beer,\n",
      "Take one down,\n",
      "Pass it around,\n",
      "\n",
      "42 bottles of beer on the wall\n",
      "42 bottles of beer,\n",
      "Take one down,\n",
      "Pass it around,\n",
      "\n",
      "41 bottles of beer on the wall\n",
      "41 bottles of beer,\n",
      "Take one down,\n",
      "Pass it around,\n",
      "\n",
      "40 bottles of beer on the wall\n",
      "40 bottles of beer,\n",
      "Take one down,\n",
      "Pass it around,\n",
      "\n",
      "39 bottles of beer on the wall\n",
      "39 bottles of beer,\n",
      "Take one down,\n",
      "Pass it around,\n",
      "\n",
      "38 bottles of beer on the wall\n",
      "38 bottles of beer,\n",
      "Take one down,\n",
      "Pass it around,\n",
      "\n",
      "37 bottles of beer on the wall\n",
      "37 bottles of beer,\n",
      "Take one down,\n",
      "Pass it around,\n",
      "\n",
      "36 bottles of beer on the wall\n",
      "36 bottles of beer,\n",
      "Take one down,\n",
      "Pass it around,\n",
      "\n",
      "35 bottles of beer on the wall\n",
      "35 bottles of beer,\n",
      "Take one down,\n",
      "Pass it around,\n",
      "\n",
      "34 bottles of beer on the wall\n",
      "34 bottles of beer,\n",
      "Take one down,\n",
      "Pass it around,\n",
      "\n",
      "33 bottles of beer on the wall\n",
      "33 bottles of beer,\n",
      "Take one down,\n",
      "Pass it around,\n",
      "\n",
      "32 bottles of beer on the wall\n",
      "32 bottles of beer,\n",
      "Take one down,\n",
      "Pass it around,\n",
      "\n",
      "31 bottles of beer on the wall\n",
      "31 bottles of beer,\n",
      "Take one down,\n",
      "Pass it around,\n",
      "\n",
      "30 bottles of beer on the wall\n",
      "30 bottles of beer,\n",
      "Take one down,\n",
      "Pass it around,\n",
      "\n",
      "29 bottles of beer on the wall\n",
      "29 bottles of beer,\n",
      "Take one down,\n",
      "Pass it around,\n",
      "\n",
      "28 bottles of beer on the wall\n",
      "28 bottles of beer,\n",
      "Take one down,\n",
      "Pass it around,\n",
      "\n",
      "27 bottles of beer on the wall\n",
      "27 bottles of beer,\n",
      "Take one down,\n",
      "Pass it around,\n",
      "\n",
      "26 bottles of beer on the wall\n",
      "26 bottles of beer,\n",
      "Take one down,\n",
      "Pass it around,\n",
      "\n",
      "25 bottles of beer on the wall\n",
      "25 bottles of beer,\n",
      "Take one down,\n",
      "Pass it around,\n",
      "\n",
      "24 bottles of beer on the wall\n",
      "24 bottles of beer,\n",
      "Take one down,\n",
      "Pass it around,\n",
      "\n",
      "23 bottles of beer on the wall\n",
      "23 bottles of beer,\n",
      "Take one down,\n",
      "Pass it around,\n",
      "\n",
      "22 bottles of beer on the wall\n",
      "22 bottles of beer,\n",
      "Take one down,\n",
      "Pass it around,\n",
      "\n",
      "21 bottles of beer on the wall\n",
      "21 bottles of beer,\n",
      "Take one down,\n",
      "Pass it around,\n",
      "\n",
      "20 bottles of beer on the wall\n",
      "20 bottles of beer,\n",
      "Take one down,\n",
      "Pass it around,\n",
      "\n",
      "19 bottles of beer on the wall\n",
      "19 bottles of beer,\n",
      "Take one down,\n",
      "Pass it around,\n",
      "\n",
      "18 bottles of beer on the wall\n",
      "18 bottles of beer,\n",
      "Take one down,\n",
      "Pass it around,\n",
      "\n",
      "17 bottles of beer on the wall\n",
      "17 bottles of beer,\n",
      "Take one down,\n",
      "Pass it around,\n",
      "\n",
      "16 bottles of beer on the wall\n",
      "16 bottles of beer,\n",
      "Take one down,\n",
      "Pass it around,\n",
      "\n",
      "15 bottles of beer on the wall\n",
      "15 bottles of beer,\n",
      "Take one down,\n",
      "Pass it around,\n",
      "\n",
      "14 bottles of beer on the wall\n",
      "14 bottles of beer,\n",
      "Take one down,\n",
      "Pass it around,\n",
      "\n",
      "13 bottles of beer on the wall\n",
      "13 bottles of beer,\n",
      "Take one down,\n",
      "Pass it around,\n",
      "\n",
      "12 bottles of beer on the wall\n",
      "12 bottles of beer,\n",
      "Take one down,\n",
      "Pass it around,\n",
      "\n",
      "11 bottles of beer on the wall\n",
      "11 bottles of beer,\n",
      "Take one down,\n",
      "Pass it around,\n",
      "\n",
      "10 bottles of beer on the wall\n",
      "10 bottles of beer,\n",
      "Take one down,\n",
      "Pass it around,\n",
      "\n",
      "9 bottles of beer on the wall\n",
      "9 bottles of beer,\n",
      "Take one down,\n",
      "Pass it around,\n",
      "\n",
      "8 bottles of beer on the wall\n",
      "8 bottles of beer,\n",
      "Take one down,\n",
      "Pass it around,\n",
      "\n",
      "7 bottles of beer on the wall\n",
      "7 bottles of beer,\n",
      "Take one down,\n",
      "Pass it around,\n",
      "\n",
      "6 bottles of beer on the wall\n",
      "6 bottles of beer,\n",
      "Take one down,\n",
      "Pass it around,\n",
      "\n",
      "5 bottles of beer on the wall\n",
      "5 bottles of beer,\n",
      "Take one down,\n",
      "Pass it around,\n",
      "\n",
      "4 bottles of beer on the wall\n",
      "4 bottles of beer,\n",
      "Take one down,\n",
      "Pass it around,\n",
      "\n",
      "3 bottles of beer on the wall\n",
      "3 bottles of beer,\n",
      "Take one down,\n",
      "Pass it around,\n",
      "\n",
      "2 bottles of beer on the wall\n",
      "2 bottles of beer,\n",
      "Take one down,\n",
      "Pass it around,\n",
      "\n"
     ]
    }
   ],
   "source": [
    "for x in range (99, 1, -1):\n",
    "    print(f\"{x} bottles of beer on the wall\\n{x} bottles of beer,\\nTake one down,\\nPass it around,\\n\")"
   ]
  },
  {
   "cell_type": "markdown",
   "metadata": {},
   "source": [
    "---"
   ]
  },
  {
   "cell_type": "markdown",
   "metadata": {},
   "source": [
    "## EXERCISE #24: EVERY 15 MINUTES"
   ]
  },
  {
   "cell_type": "markdown",
   "metadata": {},
   "source": [
    "Write a program that displays the time for every 15 minute interval from 12:00 am to 11:45 pm. Your solution should produce the following output:\n",
    "\n",
    "12:00 am\n",
    "12:15 am\n",
    "12:30 am\n",
    "12:45 am\n",
    "1:00 am\n",
    "1:15 am\n",
    "--cut--\n",
    "11:30 pm\n",
    "11:45 pm\n",
    "\n",
    "There are 96 lines in the full output."
   ]
  },
  {
   "cell_type": "code",
   "execution_count": 25,
   "metadata": {},
   "outputs": [
    {
     "name": "stdout",
     "output_type": "stream",
     "text": [
      "12 : 00 am\n",
      "12 : 15 am\n",
      "12 : 30 am\n",
      "12 : 45 am\n",
      "1 : 00 am\n",
      "1 : 15 am\n",
      "1 : 30 am\n",
      "1 : 45 am\n",
      "2 : 00 am\n",
      "2 : 15 am\n",
      "2 : 30 am\n",
      "2 : 45 am\n",
      "3 : 00 am\n",
      "3 : 15 am\n",
      "3 : 30 am\n",
      "3 : 45 am\n",
      "4 : 00 am\n",
      "4 : 15 am\n",
      "4 : 30 am\n",
      "4 : 45 am\n",
      "5 : 00 am\n",
      "5 : 15 am\n",
      "5 : 30 am\n",
      "5 : 45 am\n",
      "6 : 00 am\n",
      "6 : 15 am\n",
      "6 : 30 am\n",
      "6 : 45 am\n",
      "7 : 00 am\n",
      "7 : 15 am\n",
      "7 : 30 am\n",
      "7 : 45 am\n",
      "8 : 00 am\n",
      "8 : 15 am\n",
      "8 : 30 am\n",
      "8 : 45 am\n",
      "9 : 00 am\n",
      "9 : 15 am\n",
      "9 : 30 am\n",
      "9 : 45 am\n",
      "10 : 00 am\n",
      "10 : 15 am\n",
      "10 : 30 am\n",
      "10 : 45 am\n",
      "11 : 00 am\n",
      "11 : 15 am\n",
      "11 : 30 am\n",
      "11 : 45 am\n",
      "12 : 00 pm\n",
      "12 : 15 pm\n",
      "12 : 30 pm\n",
      "12 : 45 pm\n",
      "1 : 00 pm\n",
      "1 : 15 pm\n",
      "1 : 30 pm\n",
      "1 : 45 pm\n",
      "2 : 00 pm\n",
      "2 : 15 pm\n",
      "2 : 30 pm\n",
      "2 : 45 pm\n",
      "3 : 00 pm\n",
      "3 : 15 pm\n",
      "3 : 30 pm\n",
      "3 : 45 pm\n",
      "4 : 00 pm\n",
      "4 : 15 pm\n",
      "4 : 30 pm\n",
      "4 : 45 pm\n",
      "5 : 00 pm\n",
      "5 : 15 pm\n",
      "5 : 30 pm\n",
      "5 : 45 pm\n",
      "6 : 00 pm\n",
      "6 : 15 pm\n",
      "6 : 30 pm\n",
      "6 : 45 pm\n",
      "7 : 00 pm\n",
      "7 : 15 pm\n",
      "7 : 30 pm\n",
      "7 : 45 pm\n",
      "8 : 00 pm\n",
      "8 : 15 pm\n",
      "8 : 30 pm\n",
      "8 : 45 pm\n",
      "9 : 00 pm\n",
      "9 : 15 pm\n",
      "9 : 30 pm\n",
      "9 : 45 pm\n",
      "10 : 00 pm\n",
      "10 : 15 pm\n",
      "10 : 30 pm\n",
      "10 : 45 pm\n",
      "11 : 00 pm\n",
      "11 : 15 pm\n",
      "11 : 30 pm\n",
      "11 : 45 pm\n"
     ]
    }
   ],
   "source": [
    "for i in ['am', 'pm']:\n",
    "    for j in ['12', '1', '2', '3', '4', '5', '6', '7', '8', '9', '10', '11']:\n",
    "        for k in ['00', '15', '30', '45']:\n",
    "            print (f\"{j} : {k} {i}\")"
   ]
  },
  {
   "cell_type": "markdown",
   "metadata": {},
   "source": [
    "---"
   ]
  },
  {
   "cell_type": "markdown",
   "metadata": {},
   "source": [
    "## EXERCISE #25: MULTIPLICATION TABLE"
   ]
  },
  {
   "cell_type": "markdown",
   "metadata": {},
   "source": [
    "Write a program that displays a multiplication table that looks like this:\n",
    " The number labels along the top and left sides are the numbers to multiply, and where their column and row intersect is the product of those numbers. Notice that the single-digit numbers are padded with spaces to keep them aligned in the same column."
   ]
  },
  {
   "cell_type": "code",
   "execution_count": 26,
   "metadata": {},
   "outputs": [
    {
     "name": "stdout",
     "output_type": "stream",
     "text": [
      "  | 1  2  3  4  5  6  7  8  9 10\n",
      "--+------------------------------\n",
      " 1| 1| 2| 3| 4| 5| 6| 7| 8| 9|10|\n",
      " 2| 2| 4| 6| 8|10|12|14|16|18|20|\n",
      " 3| 3| 6| 9|12|15|18|21|24|27|30|\n",
      " 4| 4| 8|12|16|20|24|28|32|36|40|\n",
      " 5| 5|10|15|20|25|30|35|40|45|50|\n",
      " 6| 6|12|18|24|30|36|42|48|54|60|\n",
      " 7| 7|14|21|28|35|42|49|56|63|70|\n",
      " 8| 8|16|24|32|40|48|56|64|72|80|\n",
      " 9| 9|18|27|36|45|54|63|72|81|90|\n",
      "10|10|20|30|40|50|60|70|80|90|100|\n"
     ]
    }
   ],
   "source": [
    "print('  | 1  2  3  4  5  6  7  8  9 10')\n",
    "print('--+------------------------------')\n",
    "\n",
    "for column in range (1, 11):\n",
    "    print(str(column).rjust(2) + '|', end='')\n",
    "\n",
    "    for row in range (1,11):\n",
    "        print(str(column * row).rjust(2) + '|', end='')\n",
    "\n",
    "    print()\n"
   ]
  },
  {
   "cell_type": "markdown",
   "metadata": {},
   "source": [
    "---"
   ]
  },
  {
   "cell_type": "markdown",
   "metadata": {},
   "source": [
    "## EXERCISE #26: HANDSHAKES"
   ]
  },
  {
   "cell_type": "markdown",
   "metadata": {},
   "source": [
    "Write a function named printHandshakes() with a list parameter named people which will be a list of strings of people’s names. The function prints out 'X shakes hands with Y', where X and Y are every possible pair of handshakes between the people in the list. No duplicates are permitted: if “Alice shakes hands with Bob” appears in the output, then “Bob shakes hands with Alice” should not appear.\n",
    "The printHandshakes() function must also return an integer of the number of handshakes."
   ]
  },
  {
   "cell_type": "code",
   "execution_count": 27,
   "metadata": {},
   "outputs": [
    {
     "name": "stdout",
     "output_type": "stream",
     "text": [
      "Alice  shakes hands with  Bob\n",
      "Alice  shakes hands with  Bob\n",
      "Alice  shakes hands with  Carol\n",
      "Bob  shakes hands with  Carol\n",
      "Alice  shakes hands with  Bob\n",
      "Alice  shakes hands with  Carol\n",
      "Alice  shakes hands with  David\n",
      "Bob  shakes hands with  Carol\n",
      "Bob  shakes hands with  David\n",
      "Carol  shakes hands with  David\n"
     ]
    }
   ],
   "source": [
    "def printHandshakes(people):\n",
    "    handshakes = 0\n",
    "    for i in range(len(people) - 1):\n",
    "        for j in range(i + 1, len(people)): \n",
    "            print(people[i], ' shakes hands with ', people[j])\n",
    "            handshakes += 1\n",
    "\n",
    "    return handshakes\n",
    "\n",
    "# These Python assert statements stop the program if their condition is False:\n",
    "assert printHandshakes(['Alice', 'Bob']) == 1\n",
    "assert printHandshakes(['Alice', 'Bob', 'Carol']) == 3\n",
    "assert printHandshakes(['Alice', 'Bob', 'Carol', 'David']) == 6"
   ]
  },
  {
   "cell_type": "markdown",
   "metadata": {},
   "source": [
    "---"
   ]
  },
  {
   "cell_type": "markdown",
   "metadata": {},
   "source": [
    "## EXERCISE #27: RECTANGLE DRAWING"
   ]
  },
  {
   "cell_type": "markdown",
   "metadata": {},
   "source": [
    "Write a drawRectangle() function with two integer parameters: width and height. The function doesn’t return any values but rather prints a rectangle with the given number of hashtags in the horizontal and vertical directions."
   ]
  },
  {
   "cell_type": "code",
   "execution_count": 28,
   "metadata": {},
   "outputs": [
    {
     "name": "stdout",
     "output_type": "stream",
     "text": [
      "##########\n",
      "##########\n",
      "##########\n",
      "##########\n"
     ]
    }
   ],
   "source": [
    "def drawRectangle(width, height):\n",
    "    for i in range(0, height):\n",
    "        for j in range(0, width):\n",
    "            print('#', end='')\n",
    "        print()\n",
    "\n",
    "drawRectangle(10, 4)"
   ]
  },
  {
   "cell_type": "markdown",
   "metadata": {},
   "source": [
    "---"
   ]
  },
  {
   "cell_type": "markdown",
   "metadata": {},
   "source": [
    "## EXERCISE #28: BORDER DRAWING"
   ]
  },
  {
   "cell_type": "markdown",
   "metadata": {},
   "source": [
    "Write a drawBorder() function with parameters width and height. The function draws the border of a rectangle with the given integer sizes."
   ]
  },
  {
   "cell_type": "code",
   "execution_count": 29,
   "metadata": {},
   "outputs": [
    {
     "name": "stdout",
     "output_type": "stream",
     "text": [
      "+--------------+\n",
      "|              |\n",
      "|              |\n",
      "+--------------+\n"
     ]
    }
   ],
   "source": [
    "def drawBorder(width, height):\n",
    "    if (width < 2 or height < 2):\n",
    "        return\n",
    "    print('+' + ('-' * (width - 2)) + '+')\n",
    "\n",
    "    for i in range(height - 2):\n",
    "        print('|' + (' ' * (width - 2)) + '|')\n",
    "\n",
    "    print('+' + ('-' * (width - 2)) + '+')\n",
    "\n",
    "drawBorder(16, 4)"
   ]
  },
  {
   "cell_type": "markdown",
   "metadata": {},
   "source": [
    "---"
   ]
  },
  {
   "cell_type": "markdown",
   "metadata": {},
   "source": [
    "## EXERCISE #29: PYRAMID DRAWING"
   ]
  },
  {
   "cell_type": "markdown",
   "metadata": {},
   "source": [
    "Write a drawPyramid() function with a height parameter. The top of the pyramid has one centered hashtag character, and the subsequent rows have two more hashtags than the previous row. The number of rows matches the height integer."
   ]
  },
  {
   "cell_type": "code",
   "execution_count": 30,
   "metadata": {},
   "outputs": [
    {
     "name": "stdout",
     "output_type": "stream",
     "text": [
      "       #\n",
      "      ###\n",
      "     #####\n",
      "    #######\n",
      "   #########\n",
      "  ###########\n",
      " #############\n",
      "###############\n"
     ]
    }
   ],
   "source": [
    "def drawPyramid(height):\n",
    "    for row in range(height):\n",
    "        left = ' ' * (height - (row + 1))\n",
    "        center = '#' * ((row * 2) + 1)\n",
    "        print(left + center)\n",
    "\n",
    "drawPyramid(8)"
   ]
  },
  {
   "cell_type": "markdown",
   "metadata": {},
   "source": [
    "---"
   ]
  },
  {
   "cell_type": "markdown",
   "metadata": {},
   "source": [
    "## EXERCISE #30: 3D BOX DRAWING"
   ]
  },
  {
   "cell_type": "markdown",
   "metadata": {},
   "source": [
    "Write a drawBox() function with a size parameter. The size parameter contains an integer for the width, length, and height of the box. The horizontal lines are drawn with - dash characters, the vertical lines with | pipe characters, and the diagonal lines with / forward slash characters. The corners of the box are drawn with + plus signs."
   ]
  },
  {
   "cell_type": "code",
   "execution_count": 31,
   "metadata": {},
   "outputs": [
    {
     "name": "stdout",
     "output_type": "stream",
     "text": [
      "  +--+\n",
      " /  /|\n",
      "+--+ +\n",
      "|  |/\n",
      "+--+\n",
      "   +----+\n",
      "  /    /|\n",
      " /    / |\n",
      "+----+  +\n",
      "|    | /\n",
      "|    |/\n",
      "+----+\n",
      "    +------+\n",
      "   /      /|\n",
      "  /      / |\n",
      " /      /  |\n",
      "+------+   +\n",
      "|      |  /\n",
      "|      | /\n",
      "|      |/\n",
      "+------+\n"
     ]
    }
   ],
   "source": [
    "def drawBox(size):\n",
    "# Special case: Draw nothing if size is less than 1:\n",
    "    if size < 1:\n",
    "        return\n",
    "# Draw back line on top surface:\n",
    "    print(' ' * (size + 1) + '+' + '-' * (size * 2) + '+')\n",
    "# Draw top surface:\n",
    "    for i in range(size):\n",
    "        print(' ' * (size - i) + '/' + ' ' * (size * 2) + '/' + ' ' * i + '|')\n",
    "# Draw top line on top surface:\n",
    "    print('+' + '-' * (size * 2) + '+' + ' ' * size + '+')\n",
    "# Draw front surface:\n",
    "    for i in range(size - 1, -1, -1):\n",
    "        print('|' + ' ' * (size * 2) + '|' + ' ' * i + '/')\n",
    "# Draw bottom lie on front surface:\n",
    "    print('+' + '-' * (size * 2) + '+')\n",
    "\n",
    "for i in range(1, 4):\n",
    "    drawBox(i)"
   ]
  },
  {
   "cell_type": "markdown",
   "metadata": {},
   "source": [
    "---"
   ]
  },
  {
   "cell_type": "markdown",
   "metadata": {},
   "source": [
    "## EXERCISE #31: CONVERT INTEGERS TO STRINGS"
   ]
  },
  {
   "cell_type": "markdown",
   "metadata": {},
   "source": [
    "Write a convertIntToStr() function with an integerNum parameter. This function operates similarly to the str() function in that it returns a string form of the parameter. For example, convertIntToStr(42) should return the string '42'. The function doesn’t have to work for floating-point numbers with a decimal point, but it should work for negative integer values."
   ]
  },
  {
   "cell_type": "code",
   "execution_count": 32,
   "metadata": {},
   "outputs": [],
   "source": [
    "def convertIntToStr(integerNum):\n",
    "    if integerNum == 0:\n",
    "        return '0'\n",
    "    \n",
    "    DIGITS_INT_TO_STR = {0: '0', 1: '1', 2: '2', 3: '3', 4: '4', 5: '5', 6: '6', 7: '7', 8: '8', 9: '9'}\n",
    "    \n",
    "    if integerNum < 0:\n",
    "        isNegative = True\n",
    "        integerNum = integerNum * -1 \n",
    "    else:\n",
    "        isNegative = False\n",
    "\n",
    "    stringNum = ''\n",
    "      \n",
    "    while integerNum > 0:\n",
    "        onesPlaceDigit = integerNum % 10\n",
    "        stringNum = DIGITS_INT_TO_STR[onesPlaceDigit] + stringNum\n",
    "        integerNum //= 10\n",
    "    \n",
    "    if isNegative:\n",
    "        return '-' + stringNum\n",
    "    else:\n",
    "        return stringNum\n",
    "\n",
    "\n",
    "for i in range(-10000, 10000):\n",
    "    assert convertIntToStr(i) == str(i)"
   ]
  },
  {
   "cell_type": "markdown",
   "metadata": {},
   "source": [
    "---"
   ]
  },
  {
   "cell_type": "markdown",
   "metadata": {},
   "source": [
    "## EXERCISE #32: CONVERT STRINGS TO INTEGERS"
   ]
  },
  {
   "cell_type": "markdown",
   "metadata": {},
   "source": [
    "Write a convertStrToInt() function with a stringNum parameter. This function returns an integer form of the parameter just like the int() function. For example, convertStrToInt('42') should return the integer 42. The function doesn’t have to work for floating-point numbers with a decimal point, but it should work for negative number values."
   ]
  },
  {
   "cell_type": "code",
   "execution_count": 33,
   "metadata": {},
   "outputs": [],
   "source": [
    "def convertStrToInt(stringNum):\n",
    "    if stringNum == '':\n",
    "        return 0\n",
    "    \n",
    "    DIGITS_STR_TO_INT = {'0': 0, '1': 1, '2': 2, '3': 3, '4': 4, '5': 5, '6': 6, '7': 7, '8': 8, '9': 9}\n",
    "\n",
    "    if stringNum[0] == '-':\n",
    "        isNegative = True\n",
    "        stringNum = stringNum[1:]  # Remove the negative sign.\n",
    "\n",
    "    else:\n",
    "        isNegative = False\n",
    "\n",
    "    # integerNum holds the converted integer, and starts off at 0:\n",
    "    integerNum = 0\n",
    "\n",
    "    # Loop over the digits in the string from left to right:\n",
    "    for i in range(len(stringNum)):\n",
    "        # Get the integer digit from the string digit:\n",
    "        digit = DIGITS_STR_TO_INT[stringNum[i]]\n",
    "        # Add this to the integer number:\n",
    "        integerNum = (integerNum * 10) + digit\n",
    "\n",
    "    # If the number was originally negative, make the integer negative before returning it:\n",
    "    if isNegative:\n",
    "        return -integerNum\n",
    "\n",
    "    else:\n",
    "        return integerNum\n",
    "\n",
    "for i in range(-10000, 10000):\n",
    "    assert convertStrToInt(str(i)) == i"
   ]
  },
  {
   "cell_type": "markdown",
   "metadata": {},
   "source": [
    "---"
   ]
  },
  {
   "cell_type": "markdown",
   "metadata": {},
   "source": [
    "### EXERCISE #33: COMMA-FORMATTED NUMBERS"
   ]
  },
  {
   "cell_type": "markdown",
   "metadata": {},
   "source": [
    "Write a commaFormat() function with a number parameter. The argument for this parameter\n",
    "can be an integer or floating-point number. Your function returns a string of this number with proper\n",
    "US/UK comma formatting. There is a comma after every third digit in the whole number part. There\n",
    "are no commas at all in the fractional part: The proper comma formatting of 1234.5678 is 1,234.5678\n",
    "and not 1,234.567,8."
   ]
  },
  {
   "cell_type": "code",
   "execution_count": 36,
   "metadata": {},
   "outputs": [],
   "source": [
    "def commaFormat(num):\n",
    "    num = str(num)\n",
    "    if ('.' in num):\n",
    "        period = num[num.index('.'):]\n",
    "        num = num[:num.index('.')]\n",
    "    else:\n",
    "        period = ''\n",
    "    \n",
    "    triplet = ''\n",
    "    comma_num = ''\n",
    "\n",
    "    for i in range (len(num) -1, -1, -1):\n",
    "        triplet = num[i] + triplet\n",
    "        if len(triplet) == 3:\n",
    "            comma_num = triplet + ',' + comma_num\n",
    "            triplet = ''\n",
    "    \n",
    "    if triplet != '':\n",
    "        comma_num = triplet + ',' + comma_num\n",
    "    \n",
    "    return comma_num[:-1] + period\n",
    "    \n",
    "\n",
    "# These Python assert statements stop the program if their condition is False:\n",
    "assert commaFormat(1) == '1'\n",
    "assert commaFormat(10) == '10'\n",
    "assert commaFormat(100) == '100'\n",
    "assert commaFormat(1000) == '1,000'\n",
    "assert commaFormat(10000) == '10,000'\n",
    "assert commaFormat(100000) == '100,000'\n",
    "assert commaFormat(1000000) == '1,000,000'\n",
    "assert commaFormat(1234567890) == '1,234,567,890'\n",
    "assert commaFormat(1000.123456) == '1,000.123456'"
   ]
  },
  {
   "cell_type": "markdown",
   "metadata": {},
   "source": [
    "---"
   ]
  },
  {
   "cell_type": "markdown",
   "metadata": {},
   "source": [
    "### EXERCISE #34 : UPPERCASE LETTERS"
   ]
  },
  {
   "cell_type": "markdown",
   "metadata": {},
   "source": [
    "Write a getUppercase() function with a text string parameter. The function returns a string\n",
    "with all lowercase letters in text converted to uppercase. Any non-letter characters in text remain\n",
    "as they are. For example, 'Hello' causes getUppercase() to return 'HELLO' but 'goodbye\n",
    "123!' returns 'GOODBYE 123!'."
   ]
  },
  {
   "cell_type": "code",
   "execution_count": 41,
   "metadata": {},
   "outputs": [],
   "source": [
    "def getUppercase(text):\n",
    "    LOWER_TO_UPPER = {'a': 'A', 'b': 'B', 'c': 'C', 'd': 'D', 'e': 'E', 'f': 'F', 'g':\n",
    "    'G', 'h': 'H', 'i': 'I', 'j': 'J', 'k': 'K', 'l': 'L', 'm': 'M', 'n': 'N', 'o': 'O',\n",
    "    'p': 'P', 'q': 'Q', 'r': 'R', 's': 'S', 't': 'T', 'u': 'U', 'v': 'V', 'w': 'W', 'x':\n",
    "    'X', 'y': 'Y', 'z': 'Z'}\n",
    "    upper = ''\n",
    "    for i in (text):\n",
    "        if i in LOWER_TO_UPPER:\n",
    "            upper += LOWER_TO_UPPER[i]\n",
    "        else:\n",
    "            upper += i\n",
    "    \n",
    "    return upper\n",
    "\n",
    "# These Python assert statements stop the program if their condition is False:\n",
    "assert getUppercase('Hello') == 'HELLO'\n",
    "assert getUppercase('hello') == 'HELLO'\n",
    "assert getUppercase('HELLO') == 'HELLO'\n",
    "assert getUppercase('Hello, world!') == 'HELLO, WORLD!'\n",
    "assert getUppercase('goodbye 123!') == 'GOODBYE 123!'\n",
    "assert getUppercase('12345') == '12345'\n",
    "assert getUppercase('') == ''"
   ]
  },
  {
   "cell_type": "markdown",
   "metadata": {},
   "source": [
    "---"
   ]
  },
  {
   "cell_type": "markdown",
   "metadata": {},
   "source": [
    "### EXERCISE #35: TITLE CASE"
   ]
  },
  {
   "cell_type": "markdown",
   "metadata": {},
   "source": [
    "Write a getTitleCase() function with a text parameter. The function should return the title\n",
    "case form of the string: every word begins with an uppercase and the remaining letters are lowercase.\n",
    "Non-letter characters separate words in the string. This means that 'Hello World' is considered to\n",
    "be two words while 'HelloWorld' is considered to be one word. Not only spaces, but all non-letter\n",
    "characters can separate words, so 'Hello5World' and 'Hello@World' also have two words."
   ]
  },
  {
   "cell_type": "code",
   "execution_count": 42,
   "metadata": {},
   "outputs": [],
   "source": [
    "def getTitleCase(text):\n",
    "    title_case = ''\n",
    "    for i in range(len(text)):\n",
    "        if i == 0:\n",
    "            title_case += text[i].upper()\n",
    "        elif text[i].isalpha() and not text[i - 1].isalpha():\n",
    "            title_case += text[i].upper()\n",
    "        else:\n",
    "            title_case += text[i].lower()\n",
    "    \n",
    "    return title_case\n",
    "\n",
    "\n",
    "# These Python assert statements stop the program if their condition is False:\n",
    "assert getTitleCase('Hello, world!') == 'Hello, World!'\n",
    "assert getTitleCase('HELLO') == 'Hello'\n",
    "assert getTitleCase('hello') == 'Hello'\n",
    "assert getTitleCase('hElLo') == 'Hello'\n",
    "assert getTitleCase('') == ''\n",
    "assert getTitleCase('abc123xyz') == 'Abc123Xyz'\n",
    "assert getTitleCase('cat dog RAT') == 'Cat Dog Rat'\n",
    "assert getTitleCase('cat,dog,RAT') == 'Cat,Dog,Rat'\n",
    "import random\n",
    "random.seed(42)\n",
    "chars = list('abcdefghijklmnopqrstuvwxyz1234567890 ,.')\n",
    "for i in range(1000):\n",
    "    random.shuffle(chars)\n",
    "assert getTitleCase(''.join(chars)) == ''.join(chars).title()\n"
   ]
  },
  {
   "cell_type": "markdown",
   "metadata": {},
   "source": [
    "---"
   ]
  },
  {
   "cell_type": "markdown",
   "metadata": {},
   "source": [
    "### EXERCISE #36: REVERSE STRING"
   ]
  },
  {
   "cell_type": "markdown",
   "metadata": {},
   "source": [
    "Write a reverseString() function with a text parameter. The function should return a\n",
    "string with all of text’s characters in reverse order. For example, reverseString('Hello')\n",
    "returns 'olleH'. The function should not alter the casing of any letters. And, if text is a blank\n",
    "string, the function returns a blank string."
   ]
  },
  {
   "cell_type": "code",
   "execution_count": 11,
   "metadata": {},
   "outputs": [],
   "source": [
    "def reverseString(text):\n",
    "    reversed_text = ''\n",
    "    text = list(text)\n",
    "\n",
    "    for i in range(len(text) // 2):\n",
    "        reversed_text = len(text) - 1 - i                            # swap the values for half the list\n",
    "        text[i], text[reversed_text] = text[reversed_text], text[i]  # swap the values for the rest of it\n",
    "\n",
    "    return ''.join(text)\n",
    "\n",
    "\n",
    "# These Python assert statements stop the program if their condition is False:\n",
    "assert reverseString('Hello') == 'olleH'\n",
    "assert reverseString('') == ''\n",
    "assert reverseString('aaazzz') == 'zzzaaa'\n",
    "assert reverseString('xxxx') == 'xxxx'"
   ]
  },
  {
   "cell_type": "markdown",
   "metadata": {},
   "source": [
    "---"
   ]
  },
  {
   "cell_type": "markdown",
   "metadata": {},
   "source": [
    "### EXERCISE #37: CHANGE MAKER"
   ]
  },
  {
   "cell_type": "markdown",
   "metadata": {},
   "source": [
    "Write a makeChange() function with an amount parameter. The amount parameter contains\n",
    "an integer of the number of cents to make change for. For example, 30 would represent 30 cents and\n",
    "125 would represent $1.25. This function should return a dictionary with keys 'quarters',\n",
    "'dimes', 'nickels', and 'pennies', where the value for a key is an integer of the number of\n",
    "this type of coin."
   ]
  },
  {
   "cell_type": "code",
   "execution_count": 7,
   "metadata": {},
   "outputs": [],
   "source": [
    "def makeChange(amount):\n",
    "    change = {}\n",
    "\n",
    "    if amount >= 25:\n",
    "        change['quarters'] = amount // 25\n",
    "        amount %= 25\n",
    "    if amount >= 10:\n",
    "        change['dimes'] = amount // 10\n",
    "        amount %= 10\n",
    "    if amount >= 5:\n",
    "        change['nickels'] = amount // 5\n",
    "        amount %= 5\n",
    "    if amount >= 1:\n",
    "        change['pennies'] = amount\n",
    "    \n",
    "    return change\n",
    "\n",
    "# These Python assert statements stop the program if their condition is False:\n",
    "assert makeChange(30) == {'quarters': 1, 'nickels': 1}\n",
    "assert makeChange(10) == {'dimes': 1}\n",
    "assert makeChange(57) == {'quarters': 2, 'nickels': 1, 'pennies': 2}\n",
    "assert makeChange(100) == {'quarters': 4}\n",
    "assert makeChange(125) == {'quarters': 5}\n"
   ]
  },
  {
   "cell_type": "markdown",
   "metadata": {},
   "source": [
    "---"
   ]
  },
  {
   "cell_type": "markdown",
   "metadata": {},
   "source": [
    "### EXERCISE #38: RANDOM SHUFFLE"
   ]
  },
  {
   "cell_type": "markdown",
   "metadata": {},
   "source": [
    "Write a shuffle() function with a values parameter set to a list of values. The function doesn’t return anything, but rather it sets each value in the list to a random index. The resulting shuffled list must contain the same values as before but in random order."
   ]
  },
  {
   "cell_type": "code",
   "execution_count": 9,
   "metadata": {},
   "outputs": [],
   "source": [
    "import random\n",
    "\n",
    "def shuffle(values):\n",
    "    for i in range(len(values)):\n",
    "        swap_index = random.randint(0, len(values) - 1)\n",
    "        values[i], values[swap_index] = values[swap_index], values[i]\n",
    "\n",
    "\n",
    "# These Python assert statements stop the program if their condition is False:\n",
    "random.seed(42)\n",
    "# Perform this test ten times:\n",
    "for i in range(10):\n",
    "    testData1 = [1, 2, 3, 4, 5, 6, 7, 8, 9, 10]\n",
    "    shuffle(testData1)\n",
    "# Make sure the number of values hasn't changed:\n",
    "assert len(testData1) == 10\n",
    "# Make sure the order has changed:\n",
    "assert testData1 != [1, 2, 3, 4, 5, 6, 7, 8, 9, 10]\n",
    "# Make sure that when re-sorted, all the original values are there:\n",
    "assert sorted(testData1) == [1, 2, 3, 4, 5, 6, 7, 8, 9, 10]\n",
    "# Make sure an empty list shuffled remains empty:\n",
    "testData2 = []\n",
    "shuffle(testData2)\n",
    "assert testData2 == []"
   ]
  },
  {
   "cell_type": "markdown",
   "metadata": {},
   "source": [
    "---"
   ]
  },
  {
   "cell_type": "markdown",
   "metadata": {},
   "source": [
    "### EXERCISE #39: COLLATZ SEQUENCE"
   ]
  },
  {
   "cell_type": "markdown",
   "metadata": {},
   "source": [
    "Write a function named collatz() with a startingNumber parameter. The function returns\n",
    "a list of integers of the Collatz sequence that startingNumber produces. The first integer in this list\n",
    "must be startingNumber and the last integer must be 1.\n",
    "Your function should check if startingNumber is an integer less than 1, and in that case,\n",
    "return an empty list."
   ]
  },
  {
   "cell_type": "code",
   "execution_count": 15,
   "metadata": {},
   "outputs": [],
   "source": [
    "def collatz(startingNumber):\n",
    "# If the starting number is 0 or negative, return an empty list:\n",
    "    if startingNumber < 1:\n",
    "        return []\n",
    "    # Create a list to hold the sequence, beginning with the starting number:\n",
    "    sequence = [startingNumber]\n",
    "    num = startingNumber\n",
    "    # Keep looping until the current number is 1:\n",
    "    while num != 1:\n",
    "    # If odd, the next number is 3 times the current number plus 1:\n",
    "        if num % 2 == 1:\n",
    "            num = 3 * num + 1\n",
    "    # If even, the next number is half the current number:\n",
    "    else:\n",
    "         num = num // 2\n",
    "    # Record the number in the sequence list:\n",
    "    sequence.append(num)\n",
    "    # Return the sequence of numbers:\n",
    "    return sequence\n",
    "\n",
    "\n",
    "# These Python assert statements stop the program if their condition is False: (I COMMENTED THEM ALL AS IT SLOWS EVERYTHING DOWN!)\n",
    "# assert collatz(0) == []\n",
    "# assert collatz(10) == [10, 5, 16, 8, 4, 2, 1]\n",
    "# assert collatz(11) == [11, 34, 17, 52, 26, 13, 40, 20, 10, 5, 16, 8, 4, 2, 1]\n",
    "# assert collatz(12) == [12, 6, 3, 10, 5, 16, 8, 4, 2, 1]\n",
    "# assert len(collatz(256)) == 9\n",
    "# assert len(collatz(257)) == 123\n",
    "# import random\n",
    "# random.seed(42)\n",
    "# for i in range(10):\n",
    "#     startingNum = random.randint(1, 100)\n",
    "#     seq = collatz(startingNum)\n",
    "# assert seq[0] == startingNum # Make sure it includes the starting number.\n",
    "# assert seq[-1] == 1 # Make sure the last integer is 1."
   ]
  },
  {
   "cell_type": "markdown",
   "metadata": {},
   "source": [
    "---"
   ]
  },
  {
   "cell_type": "markdown",
   "metadata": {},
   "source": [
    "### EXERCISE #40: MERGING TWO SORTED LISTS"
   ]
  },
  {
   "cell_type": "markdown",
   "metadata": {},
   "source": [
    "Write a mergeTwoLists() function with two parameters list1 and list2. The lists of\n",
    "numbers passed for these parameters are already in sorted order from smallest to largest number. The\n",
    "function returns a single sorted list of all numbers from these two lists."
   ]
  },
  {
   "cell_type": "code",
   "execution_count": 17,
   "metadata": {},
   "outputs": [],
   "source": [
    "def mergeTwoLists(list1, list2):\n",
    "    result = []\n",
    "    i1, i2 = 0, 0\n",
    "\n",
    "    while i1 < len(list1) and i2 < len(list2):\n",
    "        if list1[i1] < list2[i2]:\n",
    "            result.append(list1[i1])\n",
    "            i1 += 1\n",
    "        else:\n",
    "            result.append(list2[i2])\n",
    "            i2 += 1\n",
    "\n",
    "    # If i1 is not at the end of list1, add the remaining items from list1:\n",
    "    while i1 < len(list1):\n",
    "        result.append(list1[i1])\n",
    "        i1 += 1\n",
    "\n",
    "    # If i2 is not at the end of list2, add the remaining items from list2:\n",
    "    while i2 < len(list2):\n",
    "        result.append(list2[i2])\n",
    "        i2 += 1\n",
    "\n",
    "    return result\n",
    "\n",
    "# These Python assert statements stop the program if their condition is False:\n",
    "assert mergeTwoLists([1, 3, 6], [5, 7, 8, 9]) == [1, 3, 5, 6, 7, 8, 9]\n",
    "assert mergeTwoLists([1, 2, 3], [4, 5]) == [1, 2, 3, 4, 5]\n",
    "assert mergeTwoLists([4, 5], [1, 2, 3]) == [1, 2, 3, 4, 5]\n",
    "assert mergeTwoLists([2, 2, 2], [2, 2, 2]) == [2, 2, 2, 2, 2, 2]\n",
    "assert mergeTwoLists([1, 2, 3], []) == [1, 2, 3]\n",
    "assert mergeTwoLists([], [1, 2, 3]) == [1, 2, 3]\n"
   ]
  },
  {
   "cell_type": "markdown",
   "metadata": {},
   "source": [
    "---"
   ]
  },
  {
   "cell_type": "markdown",
   "metadata": {},
   "source": [
    "### EXERCISE #41: ROT 13 ENCRYPTION"
   ]
  },
  {
   "cell_type": "markdown",
   "metadata": {},
   "source": [
    "Write a rot13() function with a text parameter that returns the ROT 13 encrypted version of\n",
    "text. Uppercase letters encrypt to uppercase letters and lowercase letters encrypt to lowercase letters.\n",
    "For example, 'HELLO, world!' encrypts to 'URYYB, jbeyq!' and 'hello, WORLD!'\n",
    "encrypts to 'uryyb, JBEYQ!'."
   ]
  },
  {
   "cell_type": "code",
   "execution_count": 23,
   "metadata": {},
   "outputs": [],
   "source": [
    "def rot13(text):\n",
    "    encryptedText = ''\n",
    "    for character in text:\n",
    "        # If the character is not a letter, add it as-is to encryptedText:\n",
    "        if not character.isalpha():\n",
    "            encryptedText += character\n",
    "        # Otherwise calculate the letter's \"rotated 13\" letter:\n",
    "        else:\n",
    "            rotatedLetterOrdinal = ord(character) + 13\n",
    "            # If adding 13 pushes the letter past Z, subtract 26:\n",
    "            if character.islower() and rotatedLetterOrdinal > ord('z'):\n",
    "                rotatedLetterOrdinal -= 26\n",
    "            elif character.isupper() and rotatedLetterOrdinal > ord('Z'):\n",
    "                rotatedLetterOrdinal -= 26\n",
    "            # Add the encrypted letter to encryptedText:\n",
    "            encryptedText += chr(rotatedLetterOrdinal)\n",
    "    # Return the encrypted text:\n",
    "    return encryptedText\n",
    "\n",
    "# Your solution is correct if the following assert statements’ conditions are all True:\n",
    "assert rot13('Hello, world!') == 'Uryyb, jbeyq!'\n",
    "assert rot13('Uryyb, jbeyq!') == 'Hello, world!'\n",
    "assert rot13(rot13('Hello, world!')) == 'Hello, world!'\n",
    "assert rot13('abcdefghijklmnopqrstuvwxyz') == 'nopqrstuvwxyzabcdefghijklm'\n",
    "assert rot13('ABCDEFGHIJKLMNOPQRSTUVWXYZ') == 'NOPQRSTUVWXYZABCDEFGHIJKLM'\n"
   ]
  },
  {
   "cell_type": "markdown",
   "metadata": {},
   "source": [
    "---"
   ]
  },
  {
   "cell_type": "markdown",
   "metadata": {},
   "source": [
    "### EXERCISE #42: BUBBLE SORT"
   ]
  },
  {
   "cell_type": "markdown",
   "metadata": {},
   "source": [
    "Write a bubbleSort() function with a list parameter named numbers. The function\n",
    "rearranges the values in this list in-place. The function also returns the now-sorted list. There are\n",
    "many sorting algorithms, but this exercise asks you to implement the bubble sort algorithm."
   ]
  },
  {
   "cell_type": "code",
   "execution_count": 25,
   "metadata": {},
   "outputs": [],
   "source": [
    "def bubbleSort(numbers):\n",
    "    for i in range(len(numbers) - 1):\n",
    "        for j in range(i, len(numbers)):\n",
    "            if numbers[i] > numbers[j]:\n",
    "                numbers[i], numbers[j] = numbers[j], numbers[i]\n",
    "    \n",
    "    return numbers\n",
    "\n",
    "# These Python assert statements stop the program if their condition is False:\n",
    "assert bubbleSort([2, 0, 4, 1, 3]) == [0, 1, 2, 3, 4]\n",
    "assert bubbleSort([2, 2, 2, 2]) == [2, 2, 2, 2]"
   ]
  },
  {
   "cell_type": "markdown",
   "metadata": {},
   "source": [
    "---"
   ]
  },
  {
   "cell_type": "markdown",
   "metadata": {},
   "source": [
    "###                                 THE END"
   ]
  }
 ],
 "metadata": {
  "kernelspec": {
   "display_name": "Python 3",
   "language": "python",
   "name": "python3"
  },
  "language_info": {
   "codemirror_mode": {
    "name": "ipython",
    "version": 3
   },
   "file_extension": ".py",
   "mimetype": "text/x-python",
   "name": "python",
   "nbconvert_exporter": "python",
   "pygments_lexer": "ipython3",
   "version": "3.11.0"
  },
  "orig_nbformat": 4
 },
 "nbformat": 4,
 "nbformat_minor": 2
}
